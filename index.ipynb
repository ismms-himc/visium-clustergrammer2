{
 "cells": [
  {
   "cell_type": "code",
   "execution_count": 1,
   "metadata": {},
   "outputs": [],
   "source": [
    "# from IPython.core.display import display, HTML\n",
    "# display(HTML(\"<style>.container { width:70% !important; }</style>\"))"
   ]
  },
  {
   "cell_type": "code",
   "execution_count": 38,
   "metadata": {},
   "outputs": [],
   "source": [
    "import pandas as pd\n",
    "\n",
    "from clustergrammer2 import net\n",
    "\n",
    "import ipywidgets as widgets\n",
    "import numpy as np\n",
    "from bqplot import pyplot as plt\n",
    "import bqplot\n",
    "from ipywidgets import HBox\n",
    "\n",
    "from copy import deepcopy\n",
    "from glob import glob\n",
    "from scipy.spatial.distance import pdist, squareform\n",
    "from scipy.spatial import Voronoi\n",
    "\n",
    "import warnings\n",
    "# warnings.filterwarnings('ignore')\n",
    "from IPython.display import display, Markdown"
   ]
  },
  {
   "cell_type": "code",
   "execution_count": 36,
   "metadata": {},
   "outputs": [
    {
     "data": {
      "text/markdown": [
       "# Visum-Clustergrammer2"
      ],
      "text/plain": [
       "<IPython.core.display.Markdown object>"
      ]
     },
     "metadata": {},
     "output_type": "display_data"
    }
   ],
   "source": [
    "display(Markdown('# Visum-Clustergrammer2'))"
   ]
  },
  {
   "cell_type": "code",
   "execution_count": 4,
   "metadata": {},
   "outputs": [],
   "source": [
    "# Read Metadata\n",
    "\n",
    "df_meta = pd.read_csv('data/processed/df_meta_v2.csv', index_col=0)"
   ]
  },
  {
   "cell_type": "code",
   "execution_count": 5,
   "metadata": {},
   "outputs": [],
   "source": [
    "net.viz = net.load_json_to_dict('data/processed/pre-calc-viz.json')"
   ]
  },
  {
   "cell_type": "code",
   "execution_count": 6,
   "metadata": {},
   "outputs": [],
   "source": [
    "ini_cat_colors = net.viz['cat_colors']['col']['cat-0']\n",
    "cat_colors = {}\n",
    "for inst_key in ini_cat_colors:\n",
    "    cat_colors[inst_key.split(': ')[1]] = ini_cat_colors[inst_key]"
   ]
  },
  {
   "cell_type": "code",
   "execution_count": 7,
   "metadata": {},
   "outputs": [],
   "source": [
    "df_meta['plot-x'] = df_meta['pos-x'].apply(lambda x: x/2 - 700)\n",
    "df_meta['plot-y'] = df_meta['pos-y'].apply(lambda x: x/2 )"
   ]
  },
  {
   "cell_type": "code",
   "execution_count": 8,
   "metadata": {},
   "outputs": [],
   "source": [
    "df_gex = pd.read_csv('data/processed/gex-z.csv', index_col=0)"
   ]
  },
  {
   "cell_type": "code",
   "execution_count": 9,
   "metadata": {},
   "outputs": [],
   "source": [
    "dot_names = list(map(lambda x,y: str(x) + '-' + str(y), df_meta['Cell Type'].tolist(), df_meta.index.tolist()) )"
   ]
  },
  {
   "cell_type": "code",
   "execution_count": 10,
   "metadata": {},
   "outputs": [],
   "source": [
    "def scatter_observe(scatter, hover_data):\n",
    "    scatter.colors = cell_type_colors\n",
    "    inst_cat = hover_data['data']['name'].split('-')[0]\n",
    "    \n",
    "    list_opacities = []\n",
    "\n",
    "    for inst_label in df_meta.index.tolist():\n",
    "        inst_opacity = 0.15\n",
    "        if df_meta.loc[inst_label, 'Cell Type'] == inst_cat:\n",
    "            inst_opacity = 1\n",
    "        list_opacities.append(inst_opacity)        \n",
    "\n",
    "    # patch.opacities = list_opacities\n",
    "    scatter.default_opacities = list_opacities    "
   ]
  },
  {
   "cell_type": "code",
   "execution_count": 11,
   "metadata": {},
   "outputs": [],
   "source": [
    "x_dim = 2000\n",
    "y_dim = 2000\n",
    "\n",
    "fig = plt.figure(animation_duration=2000)\n",
    "\n",
    "# will be re-used to reset cell type colors\n",
    "cell_type_colors = [ cat_colors[df_meta.loc[x, 'Cell Type']] for x in df_gex.columns.tolist()]\n",
    "\n",
    "def_tt = bqplot.Tooltip(fields=['name'], formats=[''])\n",
    "\n",
    "scatter = plt.scatter(df_meta['plot-x'], \n",
    "                      df_meta['plot-y'],\n",
    "                      display_names=False, \n",
    "                      default_size=20, \n",
    "                      tooltip=def_tt,\n",
    "                      names=dot_names,\n",
    "                      colors=cell_type_colors)\n",
    "\n",
    "\n",
    "\n",
    "scatter.default_size = 105\n",
    "\n",
    "top_margin = 200\n",
    "inst_width = 800\n",
    "inst_height = 1000\n",
    "fig.layout.min_height = str(inst_height) + 'px'\n",
    "fig.layout.min_width  = str(inst_width) + 'px'\n",
    "\n",
    "plt.xlim(0, 2.0*x_dim)\n",
    "plt.ylim(0, 2.0*y_dim)\n",
    "fig.title = 'Visium Tissue'\n",
    "fig.fig_margin = {'top': top_margin, 'bottom': 5, 'left': 5, 'right': 5}\n"
   ]
  },
  {
   "cell_type": "code",
   "execution_count": 12,
   "metadata": {},
   "outputs": [],
   "source": [
    "scatter.on_hover(callback=scatter_observe)"
   ]
  },
  {
   "cell_type": "code",
   "execution_count": 13,
   "metadata": {},
   "outputs": [],
   "source": [
    "default_opacity = 1"
   ]
  },
  {
   "cell_type": "code",
   "execution_count": 14,
   "metadata": {},
   "outputs": [],
   "source": [
    "def cat_highlight(inst_value):\n",
    "    \n",
    "    scatter.colors = cell_type_colors  \n",
    "    cols = df_gex.columns.tolist()\n",
    "\n",
    "    if inst_value == 'reset_cats':\n",
    "        list_opacities = [default_opacity for x in cols]\n",
    "        scatter.default_opacities = list_opacities\n",
    "        \n",
    "    else:\n",
    "        \n",
    "        inst_cat_title = inst_value.split(': ')[0]\n",
    "        inst_cat = inst_value.split(': ')[1]\n",
    "\n",
    "        list_opacities = []\n",
    "\n",
    "        for inst_label in cols:\n",
    "            inst_opacity = 0.15\n",
    "            if df_meta.loc[inst_label, inst_cat_title] == inst_cat:\n",
    "                inst_opacity = 1\n",
    "            list_opacities.append(inst_opacity)        \n",
    "\n",
    "         \n",
    "    scatter.default_opacities = list_opacities\n"
   ]
  },
  {
   "cell_type": "code",
   "execution_count": 15,
   "metadata": {},
   "outputs": [],
   "source": [
    "def on_value_change(change):\n",
    "    \n",
    "    if change['new'] == 'null':\n",
    "        \n",
    "        # category highlight\n",
    "        cat_highlight('reset_cats')\n",
    "        fig.title = 'Visium Tissue'\n",
    "        \n",
    "    else: \n",
    "        \n",
    "        # mousing over category\n",
    "        if 'cat-' in change['new']:\n",
    "            inst_cat = change['new'].split(' -> ')[1]\n",
    "            \n",
    "            # print('on_value_change', inst_cat)\n",
    "            cat_highlight(inst_cat)       \n",
    "            \n",
    "            fig.title = 'Visium Tissue'\n",
    "            \n",
    "        # mousing over marker\n",
    "        elif 'row-label' in change['new']:\n",
    "            \n",
    "            inst_marker = change['new'].split(' -> ')[1]\n",
    "            ser_opacity = df_gex.loc[inst_marker]\n",
    "            ser_opacity = ser_opacity / float(np.abs(ser_opacity.max()))\n",
    "            \n",
    "            fig.title = 'Visium Tissue: ' + inst_marker\n",
    "            \n",
    "            # loop up opacities\n",
    "            list_opacities = []\n",
    "            rows = ser_opacity.index.tolist()\n",
    "            \n",
    "            list_marker_colors = []\n",
    "            \n",
    "            for inst_name in df_gex.columns.tolist():\n",
    "                \n",
    "                inst_opacity = ser_opacity[inst_name]\n",
    "                \n",
    "                list_opacities.append(np.abs(inst_opacity))\n",
    "                \n",
    "                if inst_opacity >= 0:\n",
    "                    list_marker_colors.append('red')\n",
    "                else:\n",
    "                    list_marker_colors.append('blue')\n",
    "                    \n",
    "            scatter.default_opacities = list_opacities\n",
    "            scatter.colors = list_marker_colors\n",
    "            \n",
    "        elif 'col-dendro' in change['new']:\n",
    "            # print('found col dendro!!!!!!!!!!!!!!!!!!!!')\n",
    "            \n",
    "            found_indexes = [int(x) for x in change['new'].split(' -> ')[1].split(',')]\n",
    "        \n",
    "            ser_index = pd.Series(df_meta.index.tolist())\n",
    "            found_barcodes = ser_index.loc[found_indexes].tolist()\n",
    "            # print(found_barcodes)\n",
    "            \n",
    "            # set to default cell type colors\n",
    "            scatter.colors = cell_type_colors\n",
    "            \n",
    "            list_opacities = [1.0 if x in found_barcodes else 0.1 for x in df_gex.columns.tolist()]\n",
    "            scatter.default_opacities = list_opacities\n",
    "            \n",
    "            # print(list_opacities)\n",
    "            \n",
    "        # elif 'matrix-cell' in change['new']:\n",
    "        #     print('found matrix cell', change['new'])\n",
    "        else:\n",
    "            # print('reset color and opacity')\n",
    "            scatter.colors = cell_type_colors\n",
    "            scatter.default_opacities = [1.0] * df_meta.shape[0]\n",
    "            \n",
    "\n"
   ]
  },
  {
   "cell_type": "code",
   "execution_count": 16,
   "metadata": {},
   "outputs": [],
   "source": [
    "# ser_index = pd.Series(df_meta.index.tolist())\n",
    "# found_barcodes = ser_index.loc[['AAACAAGTATCTCCCA', 'AAACACCAATAACTGC']]"
   ]
  },
  {
   "cell_type": "code",
   "execution_count": 17,
   "metadata": {},
   "outputs": [],
   "source": [
    "net.widget()\n",
    "net.widget_instance.observe(on_value_change, names='value')"
   ]
  },
  {
   "cell_type": "code",
   "execution_count": 18,
   "metadata": {},
   "outputs": [],
   "source": [
    "from IPython.display import display\n",
    "location_button = widgets.Button(description=\"Tissue Location\")\n",
    "umap_button = widgets.Button(description=\"UMAP\")\n",
    "\n",
    "# display(button)\n",
    "\n",
    "def on_location_button_click(b):\n",
    "#     print(\"Location clicked.\")\n",
    "    scatter.y = df_meta['plot-y']\n",
    "    scatter.x = df_meta['plot-x']        \n",
    "    \n",
    "def on_umap_button_click(b):\n",
    "#     print(\"Location clicked.\")\n",
    "    scatter.y = df_meta['umap-y'] * 150 + 1500\n",
    "    scatter.x = df_meta['umap-x'] * 150 + 1900                    \n",
    "    \n",
    "\n",
    "location_button.on_click(on_location_button_click)\n",
    "umap_button.on_click(on_umap_button_click)\n",
    "\n",
    "# HBox([location_button, umap_button])"
   ]
  },
  {
   "cell_type": "code",
   "execution_count": 19,
   "metadata": {
    "scrolled": false
   },
   "outputs": [
    {
     "data": {
      "application/vnd.jupyter.widget-view+json": {
       "model_id": "9282a79c2a934d80828892cd66b6c3db",
       "version_major": 2,
       "version_minor": 0
      },
      "text/plain": [
       "HBox(children=(VBox(children=(HBox(children=(Button(description='Tissue Location', style=ButtonStyle()), Butto…"
      ]
     },
     "metadata": {},
     "output_type": "display_data"
    }
   ],
   "source": [
    "button_section = widgets.HBox([location_button, umap_button])\n",
    "left_box = widgets.VBox([button_section, fig])\n",
    "right_box = widgets.VBox([net.widget_instance])\n",
    "widgets.HBox([left_box, right_box])"
   ]
  },
  {
   "cell_type": "markdown",
   "metadata": {},
   "source": [
    "\n",
    "#### Description\n",
    "Please wait for dashboard to load. This dashboard uses the single-cell toolkit [Clustergrammer2](https://github.com/ismms-himc/clustergrammer2), the plotting library [bqplot](https://gitter.im/bloomberg/bqplot), and the dashboard library [voila](https://github.com/voila-dashboards/voila) to allow users to interactivey explore high-dimensional spatial transcriptomics data from the mouse brain (V1_Mouse_Brain_Sagittal_Anterior [Visium](https://www.10xgenomics.com/spatial-transcriptomics/) dataset from  from [10x Genomics](https://www.10xgenomics.com/).\n",
    "\n",
    "#### Visium Data Analysis and Visualization\n",
    "This dashboard generates linked views of spatial tissue data and high-dimensional gene expression data. The left panel shows Visium location data (e.g. the location of gene expression in the cell(s) located in the spot) and the right panel shows the top 250 variable genes across all Visium data points (note ribosomal and mitochondrial genes were dropped for this analysis). The left panel can be transformed to and from a [UMAP](https://umap-learn.readthedocs.io/en/latest/) dimensionality reduced view. The Clustergrammer2 heatmap performed hierarchical clustering on the ~2500 Visium data points (e.g. spots) using the top 250 genes ranked by variance (Visium data points were scaled to have the same UMI level and then gene level was Z-scored). Similarly genes were hierarchically clustered based on their expression across Visium data points. This enables us to directly visualize a 250-dimensional gene expression space and dynamically overlay data into location space - clicking on a gene overlays gene expression, clicking on column category shows cell types, clicking on column dendrogram shows cells.\n",
    "\n",
    "Similarly to the [Seurat spatial vignette](https://satijalab.org/seurat/v3.1/spatial_vignette.html) we used a [single cell RNA-seq dataset](https://www.nature.com/articles/nn.4216) (~14,000 Mouse cortical cells produced by the Allen Institute) as a reference dataset for labeling the Visium data. We see broad-level agreement with expected cell type spatial distribution. \n",
    "\n",
    "This project was influenced by the [Seurat spatial vignette](https://satijalab.org/seurat/v3.1/spatial_vignette.html) from the [Satija lab](https://satijalab.org/) and we are very grateful for thier public examples.\n",
    "\n",
    "#### Deployment \n",
    "This example is being hosted using the service [Binder](https://mybinder.org/) and the Jupyter notebooks used to perform preliminary analysis can be found in the repo https://github.com/ismms-himc/visium-clustergrammer2. Note data is not included in the repo because of GitHub size limitations but can be easily obtained from [10x Genomics Datasets](https://www.10xgenomics.com/resources/datasets/). This example is open source and we encourage users to re-purpose this example using their own data. \n",
    "\n",
    "\n",
    "#### Contact\n",
    "Please contact us through the [Gitter Discussion Board](https://gitter.im/clustergrammer2) or [issue tracker](https://github.com/ismms-himc/visium-clustergrammer2/issues) with questions comments or concerns.\n"
   ]
  },
  {
   "cell_type": "markdown",
   "metadata": {},
   "source": [
    "#### Tutorial"
   ]
  },
  {
   "cell_type": "code",
   "execution_count": 16,
   "metadata": {},
   "outputs": [
    {
     "data": {
      "image/jpeg": "[encoded data removed]",
      "text/html": [
       "\n",
       "        <iframe\n",
       "            width=\"800\"\n",
       "            height=\"500\"\n",
       "            src=\"https://www.youtube.com/embed/eGDZA-xm_oc\"\n",
       "            frameborder=\"0\"\n",
       "            allowfullscreen\n",
       "        ></iframe>\n",
       "        "
      ],
      "text/plain": [
       "<IPython.lib.display.YouTubeVideo at 0x105f31e10>"
      ]
     },
     "execution_count": 16,
     "metadata": {},
     "output_type": "execute_result"
    }
   ],
   "source": [
    "from IPython.display import YouTubeVideo\n",
    "\n",
    "YouTubeVideo('eGDZA-xm_oc', width=800, height=500)"
   ]
  },
  {
   "cell_type": "code",
   "execution_count": null,
   "metadata": {},
   "outputs": [],
   "source": []
  }
 ],
 "metadata": {
  "kernelspec": {
   "display_name": "Python 3",
   "language": "python",
   "name": "python3"
  },
  "language_info": {
   "codemirror_mode": {
    "name": "ipython",
    "version": 3
   },
   "file_extension": ".py",
   "mimetype": "text/x-python",
   "name": "python",
   "nbconvert_exporter": "python",
   "pygments_lexer": "ipython3",
   "version": "3.6.5"
  }
 },
 "nbformat": 4,
 "nbformat_minor": 2
}
