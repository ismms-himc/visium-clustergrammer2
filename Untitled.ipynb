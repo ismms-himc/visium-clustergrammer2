{
 "cells": [
  {
   "cell_type": "code",
   "execution_count": 2,
   "metadata": {},
   "outputs": [
    {
     "name": "stdout",
     "output_type": "stream",
     "text": [
      "{'shortId': '720b0b39f73aed0eeda754854c9c57d9', 'userListId': 25963280}\n"
     ]
    }
   ],
   "source": [
    "import json\n",
    "import requests\n",
    "\n",
    "\n",
    "ENRICHR_URL = 'http://amp.pharm.mssm.edu/Enrichr/addList'\n",
    "genes_str = '\\n'.join([\n",
    "    'PHF14', 'RBM3', 'MSL1', 'PHF21A', 'ARL10', 'INSR', 'JADE2', 'P2RX7',\n",
    "    'LINC00662', 'CCDC101', 'PPM1B', 'KANSL1L', 'CRYZL1', 'ANAPC16', 'TMCC1',\n",
    "    'CDH8', 'RBM11', 'CNPY2', 'HSPA1L', 'CUL2', 'PLBD2', 'LARP7', 'TECPR2', \n",
    "    'ZNF302', 'CUX1', 'MOB2', 'CYTH2', 'SEC22C', 'EIF4E3', 'ROBO2',\n",
    "    'ADAMTS9-AS2', 'CXXC1', 'LINC01314', 'ATF7', 'ATP5F1'\n",
    "])\n",
    "description = 'Example gene list'\n",
    "payload = {\n",
    "    'list': (None, genes_str),\n",
    "    'description': (None, description)\n",
    "}\n",
    "\n",
    "response = requests.post(ENRICHR_URL, files=payload)\n",
    "if not response.ok:\n",
    "    raise Exception('Error analyzing gene list')\n",
    "\n",
    "data = json.loads(response.text)\n",
    "print(data)"
   ]
  },
  {
   "cell_type": "code",
   "execution_count": 3,
   "metadata": {},
   "outputs": [
    {
     "data": {
      "text/plain": [
       "25963280"
      ]
     },
     "execution_count": 3,
     "metadata": {},
     "output_type": "execute_result"
    }
   ],
   "source": [
    "data['userListId']"
   ]
  },
  {
   "cell_type": "code",
   "execution_count": 4,
   "metadata": {},
   "outputs": [
    {
     "name": "stdout",
     "output_type": "stream",
     "text": [
      "{'KEGG_2015': [[1, 'dentatorubropallidoluysian atrophy', 0.025939658708656763, 38.095238095238095, 139.1231336050558, ['INSR'], 1.0, 0, 0], [2, 'ubiquitin mediated proteolysis', 0.06608937289376358, 14.652014652014651, 39.80582151231267, ['CUL2'], 1.0, 0, 0], [3, 'type ii diabetes mellitus', 0.07099360978400186, 13.605442176870747, 35.98864502086484, ['INSR'], 1.0, 0, 0], [4, 'renal cell carcinoma', 0.11402053165072557, 8.281573498964804, 17.982416104387152, ['CUL2'], 1.0, 0, 0], [5, 'adherens junction', 0.12331578196011432, 7.6190476190476195, 15.946719090059336, ['INSR'], 1.0, 0, 0], [6, 'axon guidance', 0.19859256680350648, 4.535147392290249, 7.331065560316667, ['ROBO2'], 1.0, 0, 0], [7, 'oxidative phosphorylation', 0.19859256680350648, 4.535147392290249, 7.331065560316667, ['ATP5F1'], 1.0, 0, 0], [8, 'calcium signaling pathway', 0.25714901264766904, 3.3812341504649197, 4.592052565901731, ['P2RX7'], 1.0, 0, 0], [9, 'neuroactive ligand receptor interaction', 0.3425298305903255, 2.4009603841536613, 2.5723806205485182, ['P2RX7'], 1.0, 0, 0], [10, 'mapk signaling pathway', 0.35408435074596933, 2.304147465437788, 2.392212247209366, ['PPM1B'], 1.0, 0, 0]]}\n"
     ]
    }
   ],
   "source": [
    "ENRICHR_URL = 'http://amp.pharm.mssm.edu/Enrichr/enrich'\n",
    "query_string = '?userListId=%s&backgroundType=%s'\n",
    "user_list_id = data['userListId']\n",
    "gene_set_library = 'KEGG_2015'\n",
    "response = requests.get(\n",
    "    ENRICHR_URL + query_string % (user_list_id, gene_set_library)\n",
    " )\n",
    "if not response.ok:\n",
    "    raise Exception('Error fetching enrichment results')\n",
    "\n",
    "data = json.loads(response.text)\n",
    "print(data)"
   ]
  },
  {
   "cell_type": "code",
   "execution_count": null,
   "metadata": {},
   "outputs": [],
   "source": []
  }
 ],
 "metadata": {
  "kernelspec": {
   "display_name": "Python 3",
   "language": "python",
   "name": "python3"
  },
  "language_info": {
   "codemirror_mode": {
    "name": "ipython",
    "version": 3
   },
   "file_extension": ".py",
   "mimetype": "text/x-python",
   "name": "python",
   "nbconvert_exporter": "python",
   "pygments_lexer": "ipython3",
   "version": "3.6.5"
  }
 },
 "nbformat": 4,
 "nbformat_minor": 2
}
